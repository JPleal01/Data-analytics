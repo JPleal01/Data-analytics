{
 "cells": [
  {
   "cell_type": "markdown",
   "metadata": {},
   "source": [
    "# Python Insights - Analisando Dados com Python\n",
    "\n",
    "### Case - Cancelamento de Clientes\n",
    "\n",
    "Você foi contratado por uma empresa com mais de 800 mil clientes para um projeto de Dados. Recentemente a empresa percebeu que da sua base total de clientes, a maioria são clientes inativos, ou seja, que já cancelaram o serviço.\n",
    "\n",
    "Precisando melhorar seus resultados ela quer conseguir entender os principais motivos desses cancelamentos e quais as ações mais eficientes para reduzir esse número.\n",
    "\n",
    "Base de dados e arquivos: https://drive.google.com/drive/folders/1uDesZePdkhiraJmiyeZ-w5tfc8XsNYFZ?usp=drive_link"
   ]
  },
  {
   "cell_type": "code",
   "execution_count": null,
   "metadata": {},
   "outputs": [],
   "source": [
    "import pandas as pd\n",
    "import plotly.express as px\n",
    "\n",
    "#importar dados\n",
    "#Corrigir tabela\n",
    "#Gerar percentual de cancelamento e tabelas\n",
    "#Analisar tabelas\n",
    "#Propor solução e gerar possiveis resultados\n",
    "\n",
    "\n"
   ]
  },
  {
   "cell_type": "code",
   "execution_count": null,
   "metadata": {},
   "outputs": [],
   "source": [
    "tabela = pd.read_csv(\"cancelamentos_sample.csv\")\n",
    "\n",
    "display(tabela.info())  #Antes de retirar coluna ID e  linhas com ausencia de dados para a análise\n",
    "tabela = tabela.drop(columns= \"CustomerID\" )\n",
    "tabela = tabela.dropna()\n",
    "display(tabela.info())  #Após as retiradas\n"
   ]
  },
  {
   "cell_type": "code",
   "execution_count": null,
   "metadata": {},
   "outputs": [],
   "source": [
    "display(tabela[\"cancelou\"].value_counts())  #Valores absolutos\n",
    "display(tabela[\"cancelou\"].value_counts(normalize= True).map(\"{:.2%}\".format))  #Percentualmente\n"
   ]
  },
  {
   "cell_type": "code",
   "execution_count": null,
   "metadata": {},
   "outputs": [],
   "source": [
    "# Geração dos graficos\n",
    "for colunas in tabela.columns:\n",
    "    grafico = px.histogram(tabela , x= colunas , color= \"cancelou\")\n",
    "    grafico.show()"
   ]
  },
  {
   "cell_type": "code",
   "execution_count": null,
   "metadata": {},
   "outputs": [],
   "source": [
    "# Supondo que alguns problemas sejam resolvidos\n",
    "tabela = tabela[tabela[\"ligacoes_callcenter\"]< 5] \n",
    "''' No caso seria feito um grande esforço para o cliente \n",
    "não ter que ligar para o callcenter mais de 4 vezes, visto que gera cancelamentos'''\n",
    "\n",
    "\n",
    "tabela = tabela[tabela[\"dias_atraso\"]<21]\n",
    "'''Nesse caso seria feito um esforço para evitar que o cliente \n",
    "chegue a atrasar mais de 20 dias do pagamento'''\n",
    "\n",
    "\n",
    "#Caberiam mais alterações junto a medidas, tal qual promoção para maiores de 50 anos, onde a taxa de cancelamento é de 100%\n",
    "#Alterações do contratos com a duracao_mensal - Montlhy, onde tambem é 100% de cancelamento.\n",
    "\n",
    "\n",
    "\n",
    "display(tabela[\"cancelou\"].value_counts())  #Valores absolutos\n",
    "\n",
    "display(tabela[\"cancelou\"].value_counts(normalize=True).map(\"{:.2%}\".format))\n",
    "\n",
    "\n"
   ]
  }
 ],
 "metadata": {
  "kernelspec": {
   "display_name": "base",
   "language": "python",
   "name": "python3"
  },
  "language_info": {
   "codemirror_mode": {
    "name": "ipython",
    "version": 3
   },
   "file_extension": ".py",
   "mimetype": "text/x-python",
   "name": "python",
   "nbconvert_exporter": "python",
   "pygments_lexer": "ipython3",
   "version": "3.11.8"
  },
  "orig_nbformat": 4
 },
 "nbformat": 4,
 "nbformat_minor": 2
}
